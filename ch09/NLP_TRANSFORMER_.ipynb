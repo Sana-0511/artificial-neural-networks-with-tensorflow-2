{
  "nbformat": 4,
  "nbformat_minor": 0,
  "metadata": {
    "colab": {
      "provenance": []
    },
    "kernelspec": {
      "name": "python3",
      "display_name": "Python 3"
    },
    "accelerator": "GPU"
  },
  "cells": [
    {
      "cell_type": "markdown",
      "metadata": {
        "id": "tGkVgV7e7Xtk"
      },
      "source": [
        "# NEURAL MACHINE TRANSLATION USING TRANSFORMER MODEL\n",
        "\n",
        "Translating from English to Spanish"
      ]
    },
    {
      "cell_type": "code",
      "metadata": {
        "id": "xVS3c5_gEz2m"
      },
      "source": [
        "import tensorflow as tf\n",
        "\n",
        "from tensorflow.keras.models import Model\n",
        "from tensorflow.keras.layers import Input,Dense,LSTM,Embedding,Bidirectional,RepeatVector,Concatenate,Activation,Dot,Lambda\n",
        "from tensorflow.keras.preprocessing.text import Tokenizer\n",
        "from tensorflow.keras.preprocessing.sequence import pad_sequences\n",
        "from keras import preprocessing,utils\n",
        "import numpy as np\n",
        "import matplotlib.pyplot as plt\n",
        "import tensorflow_datasets as tfds\n",
        "import os\n",
        "import re\n",
        "import numpy as np\n",
        "import string"
      ],
      "execution_count": 3,
      "outputs": []
    },
    {
      "cell_type": "markdown",
      "metadata": {
        "id": "MdR19HgJdilP"
      },
      "source": [
        "# Downloading dataset for English/Spanish translations\n"
      ]
    },
    {
      "cell_type": "code",
      "metadata": {
        "id": "NlBjPxZj4GUo",
        "outputId": "23fa27b6-85d4-4add-dd49-7f570e3d2182",
        "colab": {
          "base_uri": "https://localhost:8080/",
          "height": 209
        }
      },
      "source": [
        "!pip install wget\n",
        "import wget\n",
        "url = 'https://raw.githubusercontent.com/Apress/artificial-neural-networks-with-tensorflow-2/main/ch08/spa.txt'\n",
        "wget.download(url,'spa.txt')\n"
      ],
      "execution_count": 4,
      "outputs": [
        {
          "output_type": "stream",
          "name": "stdout",
          "text": [
            "Collecting wget\n",
            "  Downloading wget-3.2.zip (10 kB)\n",
            "  Preparing metadata (setup.py) ... \u001b[?25l\u001b[?25hdone\n",
            "Building wheels for collected packages: wget\n",
            "  Building wheel for wget (setup.py) ... \u001b[?25l\u001b[?25hdone\n",
            "  Created wheel for wget: filename=wget-3.2-py3-none-any.whl size=9655 sha256=185f078d23d63f75030eac896a41865f43d1412d1d78eb4d68f9ced55208cdac\n",
            "  Stored in directory: /root/.cache/pip/wheels/8b/f1/7f/5c94f0a7a505ca1c81cd1d9208ae2064675d97582078e6c769\n",
            "Successfully built wget\n",
            "Installing collected packages: wget\n",
            "Successfully installed wget-3.2\n"
          ]
        },
        {
          "output_type": "execute_result",
          "data": {
            "text/plain": [
              "'spa.txt'"
            ],
            "application/vnd.google.colaboratory.intrinsic+json": {
              "type": "string"
            }
          },
          "metadata": {},
          "execution_count": 4
        }
      ]
    },
    {
      "cell_type": "markdown",
      "metadata": {
        "id": "5ygjAiZPdo0O"
      },
      "source": [
        "# Creating datasets for training"
      ]
    },
    {
      "cell_type": "code",
      "metadata": {
        "id": "x-ZjNxyW4MO8"
      },
      "source": [
        "# reading data\n",
        "with open('/content/spa.txt',encoding='utf-8',errors='ignore') as file:\n",
        "  text=file.read().split('\\n')"
      ],
      "execution_count": 5,
      "outputs": []
    },
    {
      "cell_type": "code",
      "metadata": {
        "id": "HF8tcWZB4yvC"
      },
      "source": [
        "input_texts=[] #encoder input\n",
        "target_texts=[] # decoder input"
      ],
      "execution_count": 6,
      "outputs": []
    },
    {
      "cell_type": "code",
      "metadata": {
        "id": "OI1yyflF42FZ"
      },
      "source": [
        "# we will select subset of the whole data\n",
        "NUM_SAMPLES = 10000\n",
        "for line in text[:NUM_SAMPLES]:\n",
        "  english, spanish  = line.split('\\t')[:2]\n",
        "  target_text = spanish.lower()\n",
        "  input_texts.append(english.lower())\n",
        "  target_texts.append(target_text)"
      ],
      "execution_count": 7,
      "outputs": []
    },
    {
      "cell_type": "markdown",
      "metadata": {
        "id": "myrJSbDydvBQ"
      },
      "source": [
        "#PREPROCESSING"
      ]
    },
    {
      "cell_type": "code",
      "metadata": {
        "id": "ZqNnbbQfDsM4"
      },
      "source": [
        "regex = re.compile('[%s]' % re.escape(string.punctuation))\n",
        "for s in input_texts:\n",
        "  regex.sub('', s)\n",
        "for s in target_texts:\n",
        "  regex.sub('', s)"
      ],
      "execution_count": 8,
      "outputs": []
    },
    {
      "cell_type": "code",
      "metadata": {
        "id": "UhPixRsFFvnB",
        "outputId": "5877c753-6d87-4fa5-d3c3-6c5d554215b1",
        "colab": {
          "base_uri": "https://localhost:8080/"
        }
      },
      "source": [
        "input_texts[1],target_texts[1]"
      ],
      "execution_count": 9,
      "outputs": [
        {
          "output_type": "execute_result",
          "data": {
            "text/plain": [
              "('go.', 'vete.')"
            ]
          },
          "metadata": {},
          "execution_count": 9
        }
      ]
    },
    {
      "cell_type": "markdown",
      "metadata": {
        "id": "zPbFRwP5eCJO"
      },
      "source": [
        "#TOKENIZING AND PADDING"
      ]
    },
    {
      "cell_type": "markdown",
      "metadata": {
        "id": "Y2Yk8BXkHVgq"
      },
      "source": [
        "## Use SubwordTextEncoder for both English and Spanish datasets.\n",
        "The tokenizer encodes the string by breaking it into subwords if the word is not in its dictionary."
      ]
    },
    {
      "cell_type": "code",
      "metadata": {
        "id": "TT3tK3CkUVGV"
      },
      "source": [
        "import tensorflow_datasets as tfds\n",
        "tokenizer_input = tfds.deprecated.text.SubwordTextEncoder.build_from_corpus(\n",
        "    input_texts, target_vocab_size=2**13)"
      ],
      "execution_count": 10,
      "outputs": []
    },
    {
      "cell_type": "code",
      "metadata": {
        "id": "-lxkAdw6IImq",
        "outputId": "c942f3a2-bc04-4e7f-d8be-d0ea34335287",
        "colab": {
          "base_uri": "https://localhost:8080/"
        }
      },
      "source": [
        "# example showing how this tokenizer works\n",
        "tokenized_string1=tokenizer_input.encode('hello i am good')\n",
        "tokenized_string1"
      ],
      "execution_count": 11,
      "outputs": [
        {
          "output_type": "execute_result",
          "data": {
            "text/plain": [
              "[2269, 1, 41, 89]"
            ]
          },
          "metadata": {},
          "execution_count": 11
        }
      ]
    },
    {
      "cell_type": "code",
      "metadata": {
        "id": "g6A6v0FlIZHR",
        "outputId": "1033af36-cbc7-4179-ec35-807214c8b74a",
        "colab": {
          "base_uri": "https://localhost:8080/"
        }
      },
      "source": [
        "for token in tokenized_string1:\n",
        "  print ('{} ----> {}'.format(token, tokenizer_input.decode([token])))"
      ],
      "execution_count": 12,
      "outputs": [
        {
          "output_type": "stream",
          "name": "stdout",
          "text": [
            "2269 ----> hello \n",
            "1 ----> i \n",
            "41 ----> am \n",
            "89 ----> good\n"
          ]
        }
      ]
    },
    {
      "cell_type": "code",
      "metadata": {
        "id": "N5fZZsoAI7d2",
        "outputId": "3246f8f3-5941-4920-cd16-686c99cf6f55",
        "colab": {
          "base_uri": "https://localhost:8080/"
        }
      },
      "source": [
        "# if the word is not in dictionary\n",
        "tokenized_string2=tokenizer_input.encode('how is the moon')\n",
        "for token in tokenized_string2:\n",
        "  print ('{} ----> {}'.format(token, tokenizer_input.decode([token])))"
      ],
      "execution_count": 13,
      "outputs": [
        {
          "output_type": "stream",
          "name": "stdout",
          "text": [
            "64 ----> how \n",
            "4 ----> is \n",
            "21 ----> the \n",
            "2827 ----> m\n",
            "2829 ----> o\n",
            "75 ----> on\n"
          ]
        }
      ]
    },
    {
      "cell_type": "code",
      "metadata": {
        "id": "539vYJPlUVDN"
      },
      "source": [
        "# tokenize Spanish text\n",
        "tokenizer_out = tfds.deprecated.text.SubwordTextEncoder.build_from_corpus(\n",
        "    target_texts, target_vocab_size=2**13)\n"
      ],
      "execution_count": 14,
      "outputs": []
    },
    {
      "cell_type": "markdown",
      "metadata": {
        "id": "zM-37lmsJVYx"
      },
      "source": [
        "\n",
        "## Create start and end tokens to both input and target"
      ]
    },
    {
      "cell_type": "code",
      "metadata": {
        "id": "fLKgJoGMW4QX"
      },
      "source": [
        "START_TOKEN_in=[tokenizer_input.vocab_size] #input start token\n",
        "END_TOKEN_in=[tokenizer_input.vocab_size+1]#input end token\n",
        "START_TOKEN_out=[tokenizer_out.vocab_size]#output start token\n",
        "END_TOKEN_out=[tokenizer_out.vocab_size+1]#output end token/"
      ],
      "execution_count": 15,
      "outputs": []
    },
    {
      "cell_type": "code",
      "metadata": {
        "id": "H1jX1pXiJn19",
        "outputId": "e68f6f3b-7df0-415f-b4a0-74b0228f48ae",
        "colab": {
          "base_uri": "https://localhost:8080/"
        }
      },
      "source": [
        "START_TOKEN_in, END_TOKEN_in,START_TOKEN_out,END_TOKEN_out"
      ],
      "execution_count": 16,
      "outputs": [
        {
          "output_type": "execute_result",
          "data": {
            "text/plain": [
              "([2974], [2975], [5737], [5738])"
            ]
          },
          "metadata": {},
          "execution_count": 16
        }
      ]
    },
    {
      "cell_type": "markdown",
      "metadata": {
        "id": "cOyZlUYrGX-R"
      },
      "source": [
        "# Function for tokenizing and padding"
      ]
    },
    {
      "cell_type": "code",
      "metadata": {
        "id": "uhXL_Fg7WN5A"
      },
      "source": [
        "MAX_LENGTH = 10\n",
        "\n",
        "# Tokenize, filter and pad sentences\n",
        "def tokenize_and_padding(inputs, outputs):\n",
        "  tokenized_inputs, tokenized_outputs = [], []\n",
        "\n",
        "  for (input_sentence, output_sentence) in zip(inputs, outputs):\n",
        "    # tokenize sentence\n",
        "    input_sentence = START_TOKEN_in + tokenizer_input.encode(input_sentence) + END_TOKEN_in\n",
        "    output_sentence = START_TOKEN_out + tokenizer_out.encode(output_sentence) + END_TOKEN_out\n",
        "    # check tokenized sentence max length\n",
        "    #if len(input_sentence) <= MAX_LENGTH and len(output_sentence) <= MAX_LENGTH:\n",
        "    tokenized_inputs.append(input_sentence)\n",
        "    tokenized_outputs.append(output_sentence )\n",
        "\n",
        "  # pad tokenized sentences\n",
        "  tokenized_inputs = tf.keras.preprocessing.sequence.pad_sequences(\n",
        "      tokenized_inputs, maxlen=MAX_LENGTH, padding='post')\n",
        "  tokenized_outputs = tf.keras.preprocessing.sequence.pad_sequences(\n",
        "      tokenized_outputs, maxlen=MAX_LENGTH, padding='post')\n",
        "\n",
        "  return tokenized_inputs, tokenized_outputs\n",
        "\n",
        "english, spanish = tokenize_and_padding(input_texts,target_texts)"
      ],
      "execution_count": 17,
      "outputs": []
    },
    {
      "cell_type": "code",
      "metadata": {
        "id": "2S4tTlZsWOQ1",
        "outputId": "a07d41b2-18a8-420a-b866-6b62259e67b6",
        "colab": {
          "base_uri": "https://localhost:8080/"
        }
      },
      "source": [
        "english[1],spanish[1]"
      ],
      "execution_count": 18,
      "outputs": [
        {
          "output_type": "execute_result",
          "data": {
            "text/plain": [
              "(array([2974,   50, 2764, 2975,    0,    0,    0,    0,    0,    0],\n",
              "       dtype=int32),\n",
              " array([5737, 1017, 5527, 5738,    0,    0,    0,    0,    0,    0],\n",
              "       dtype=int32))"
            ]
          },
          "metadata": {},
          "execution_count": 18
        }
      ]
    },
    {
      "cell_type": "markdown",
      "metadata": {
        "id": "VyqK8IgoeGNA"
      },
      "source": [
        "#PREPARING DATASET FOR TRAINING"
      ]
    },
    {
      "cell_type": "code",
      "metadata": {
        "id": "SP_Rg6-M5qg0"
      },
      "source": [
        "BATCH_SIZE = 32\n",
        "BUFFER_SIZE = 10000\n",
        "\n",
        "# decoder inputs use the previous target as input\n",
        "# remove START_TOKEN from targets\n",
        "dataset = tf.data.Dataset.from_tensor_slices((\n",
        "    {\n",
        "        'inputs': english,\n",
        "        'decoder_inputs': spanish[:, :-1]\n",
        "    },\n",
        "    {\n",
        "        'outputs':spanish[:, 1:]\n",
        "    },\n",
        "))\n",
        "\n",
        "dataset = dataset.cache()\n",
        "dataset = dataset.shuffle(BUFFER_SIZE)\n",
        "dataset = dataset.batch(BATCH_SIZE)\n",
        "dataset = dataset.prefetch(tf.data.experimental.AUTOTUNE)"
      ],
      "execution_count": 19,
      "outputs": []
    },
    {
      "cell_type": "markdown",
      "metadata": {
        "id": "V5fNgyQSeLsu"
      },
      "source": [
        "# Transformer model\n"
      ]
    },
    {
      "cell_type": "markdown",
      "metadata": {
        "id": "lyArOU9teU6z"
      },
      "source": [
        "# MULTIHEAD ATTENTION CLASS\n"
      ]
    },
    {
      "cell_type": "code",
      "metadata": {
        "id": "eKn16ht56N1y"
      },
      "source": [
        "class MultiHeadAttention(tf.keras.layers.Layer):\n",
        "\n",
        "  def __init__(self, d_model, num_heads, name=\"multi_head_attention\"):\n",
        "    super(MultiHeadAttention, self).__init__(name=name)\n",
        "    self.num_heads = num_heads\n",
        "    self.d_model = d_model\n",
        "    self.depth = d_model // self.num_heads\n",
        "\n",
        "    self.query_dense = tf.keras.layers.Dense(units=d_model)\n",
        "    self.key_dense = tf.keras.layers.Dense(units=d_model)\n",
        "    self.value_dense = tf.keras.layers.Dense(units=d_model)\n",
        "    self.dense = tf.keras.layers.Dense(units=d_model)\n",
        "\n",
        "  def split_heads(self, inputs, batch_size):\n",
        "    inputs = tf.reshape(\n",
        "        inputs, shape=(batch_size, -1, self.num_heads, self.depth))\n",
        "    return tf.transpose(inputs, perm=[0, 2, 1, 3])\n",
        "\n",
        "  def call(self, inputs):\n",
        "    query, key, value, mask = inputs['query'], inputs['key'], inputs['value'], inputs['mask']\n",
        "    batch_size = tf.shape(query)[0]\n",
        "\n",
        "    # linear layers\n",
        "    query = self.query_dense(query)\n",
        "    key = self.key_dense(key)\n",
        "    value = self.value_dense(value)\n",
        "\n",
        "    # split heads\n",
        "    query = self.split_heads(query, batch_size)\n",
        "    key = self.split_heads(key, batch_size)\n",
        "    value = self.split_heads(value, batch_size)\n",
        "\n",
        "    # scaled dot-product attention\n",
        "    scaled_attention = scaled_dot_product_attention(query, key, value, mask)\n",
        "    scaled_attention = tf.transpose(scaled_attention, perm=[0, 2, 1, 3])\n",
        "\n",
        "    # concatenation of heads\n",
        "    concat_attention = tf.reshape(scaled_attention,\n",
        "                                  (batch_size, -1, self.d_model))\n",
        "\n",
        "    # final linear layer\n",
        "    outputs = self.dense(concat_attention)\n",
        "\n",
        "    return outputs"
      ],
      "execution_count": 20,
      "outputs": []
    },
    {
      "cell_type": "markdown",
      "metadata": {
        "id": "hdwvqme8FWSf"
      },
      "source": [
        "# Scaled dot product attention"
      ]
    },
    {
      "cell_type": "code",
      "metadata": {
        "id": "e5uFDZBx6Kwg"
      },
      "source": [
        "def scaled_dot_product_attention(query, key, value, mask):\n",
        "  QxK_transpose = tf.matmul(query, key, transpose_b=True)\n",
        "\n",
        "  depth = tf.cast(tf.shape(key)[-1], tf.float32)\n",
        "  logits = QxK_transpose / tf.math.sqrt(depth)\n",
        "\n",
        "  if mask is not None:\n",
        "    logits += (mask * -1e9)\n",
        "\n",
        "  # softmax is normalized on the last axis (seq_len_k)\n",
        "  attention_weights = tf.nn.softmax(logits, axis=-1)\n",
        "\n",
        "  output = tf.matmul(attention_weights, value)\n",
        "\n",
        "  return output"
      ],
      "execution_count": 21,
      "outputs": []
    },
    {
      "cell_type": "markdown",
      "metadata": {
        "id": "PyJqxN3CgnYe"
      },
      "source": [
        "# Masking functions"
      ]
    },
    {
      "cell_type": "code",
      "metadata": {
        "id": "ukcJhr1p6Sx8"
      },
      "source": [
        "def create_padding_mask(x):\n",
        "  mask = tf.cast(tf.math.equal(x, 0), tf.float32)\n",
        "  # (batch_size, 1, 1, sequence length)\n",
        "  return mask[:, tf.newaxis, tf.newaxis, :]"
      ],
      "execution_count": 22,
      "outputs": []
    },
    {
      "cell_type": "code",
      "metadata": {
        "id": "YbEZeCOuRHUx",
        "outputId": "d07b7b26-92bb-4f62-9917-9b647821bd3b",
        "colab": {
          "base_uri": "https://localhost:8080/"
        }
      },
      "source": [
        "# function testing\n",
        "x=tf.constant([[2974,   50, 2764, 2975,    0,    0,    0,    0,    0,    0]])\n",
        "create_padding_mask(x)"
      ],
      "execution_count": 23,
      "outputs": [
        {
          "output_type": "execute_result",
          "data": {
            "text/plain": [
              "<tf.Tensor: shape=(1, 1, 1, 10), dtype=float32, numpy=array([[[[0., 0., 0., 0., 1., 1., 1., 1., 1., 1.]]]], dtype=float32)>"
            ]
          },
          "metadata": {},
          "execution_count": 23
        }
      ]
    },
    {
      "cell_type": "code",
      "metadata": {
        "id": "i0kcUeU-6U_3"
      },
      "source": [
        "def create_look_ahead_mask(x):\n",
        "  seq_len = tf.shape(x)[1]\n",
        "  look_ahead_mask = 1 - tf.linalg.band_part(tf.ones((seq_len, seq_len)), -1, 0)\n",
        "  padding_mask = create_padding_mask(x)\n",
        "  return tf.maximum(look_ahead_mask, padding_mask)"
      ],
      "execution_count": 24,
      "outputs": []
    },
    {
      "cell_type": "markdown",
      "metadata": {
        "id": "rFdF7ODlejOV"
      },
      "source": [
        "#POSITIONAL ENCODING"
      ]
    },
    {
      "cell_type": "code",
      "metadata": {
        "id": "fz83rpht6YwY"
      },
      "source": [
        "class PositionalEncoding(tf.keras.layers.Layer):\n",
        "\n",
        "  def __init__(self, position, d_model):\n",
        "    super(PositionalEncoding, self).__init__()\n",
        "    self.pos_encoding = self.positional_encoding(position, d_model)\n",
        "\n",
        "  def get_angles(self, position, i, d_model):\n",
        "    angles = 1 / tf.pow(10000, (2 * (i // 2)) / tf.cast(d_model, tf.float32))\n",
        "    return position * angles\n",
        "\n",
        "  def positional_encoding(self, position, d_model):\n",
        "    angle_rads = self.get_angles(\n",
        "        position=tf.range(position, dtype=tf.float32)[:, tf.newaxis],\n",
        "        i=tf.range(d_model, dtype=tf.float32)[tf.newaxis, :],\n",
        "        d_model=d_model)\n",
        "    # apply sine to even index in the array\n",
        "    sines = tf.math.sin(angle_rads[:, 0::2])\n",
        "    # apply cosine to odd index in the array\n",
        "    cosines = tf.math.cos(angle_rads[:, 1::2])\n",
        "\n",
        "    pos_encoding = tf.concat([sines, cosines], axis=-1)\n",
        "    pos_encoding = pos_encoding[tf.newaxis, ...]\n",
        "    return tf.cast(pos_encoding, tf.float32)\n",
        "\n",
        "  def call(self, inputs):\n",
        "    return inputs + self.pos_encoding[:, :tf.shape(inputs)[1], :]"
      ],
      "execution_count": 25,
      "outputs": []
    },
    {
      "cell_type": "markdown",
      "metadata": {
        "id": "gkFx1mHPemqi"
      },
      "source": [
        "# Encoder layer"
      ]
    },
    {
      "cell_type": "code",
      "metadata": {
        "id": "l7i5J_Dz6gnQ"
      },
      "source": [
        "def encoder_layer(units, d_model, num_heads, dropout, name=\"encoder_layer\"):\n",
        "  inputs = tf.keras.Input(shape=(None, d_model), name=\"inputs\")\n",
        "  padding_mask = tf.keras.Input(shape=(1, 1, None), name=\"padding_mask\")\n",
        "\n",
        "  # multi-head attention with padding mask\n",
        "  attention = MultiHeadAttention(\n",
        "      d_model, num_heads, name=\"attention\")({\n",
        "          'query': inputs,\n",
        "          'key': inputs,\n",
        "          'value': inputs,\n",
        "          'mask': padding_mask\n",
        "      })\n",
        "  attention = tf.keras.layers.Dropout(rate=dropout)(attention)\n",
        "  attention = tf.keras.layers.LayerNormalization(\n",
        "      epsilon=1e-6)(inputs + attention)\n",
        "\n",
        "  # two dense layers followed by a dropout\n",
        "  outputs = tf.keras.layers.Dense(units=units, activation='relu')(attention)\n",
        "  outputs = tf.keras.layers.Dense(units=d_model)(outputs)\n",
        "  outputs = tf.keras.layers.Dropout(rate=dropout)(outputs)\n",
        "  outputs = tf.keras.layers.LayerNormalization(\n",
        "      epsilon=1e-6)(attention + outputs)\n",
        "\n",
        "  return tf.keras.Model(\n",
        "      inputs=[inputs, padding_mask], outputs=outputs, name=name)"
      ],
      "execution_count": 26,
      "outputs": []
    },
    {
      "cell_type": "markdown",
      "metadata": {
        "id": "mDuXF5A-67EE"
      },
      "source": [
        "# Encoder"
      ]
    },
    {
      "cell_type": "code",
      "metadata": {
        "id": "llo2yJpd6prL"
      },
      "source": [
        "def encoder(vocab_size,\n",
        "            num_layers,\n",
        "            units,\n",
        "            d_model,\n",
        "            num_heads,\n",
        "            dropout,\n",
        "            name=\"encoder\"):\n",
        "\n",
        "  inputs = tf.keras.Input(shape=(None,), name=\"inputs\")\n",
        "  # create padding mask\n",
        "  padding_mask = tf.keras.Input(shape=(1, 1, None), name=\"padding_mask\")\n",
        "\n",
        "  # create combination of word embedding + positional encoding\n",
        "  embeddings = tf.keras.layers.Embedding(vocab_size, d_model)(inputs)\n",
        "  embeddings *= tf.math.sqrt(tf.cast(d_model, tf.float32))\n",
        "  embeddings = PositionalEncoding(vocab_size, d_model)(embeddings)\n",
        "\n",
        "  outputs = tf.keras.layers.Dropout(rate=dropout)(embeddings)\n",
        "\n",
        "  # repeat the Encoder Layer two times\n",
        "  for i in range(num_layers):\n",
        "    outputs = encoder_layer(\n",
        "        units=units,\n",
        "        d_model=d_model,\n",
        "        num_heads=num_heads,\n",
        "        dropout=dropout,\n",
        "        name=\"encoder_layer_{}\".format(i),\n",
        "    )([outputs, padding_mask])\n",
        "\n",
        "  return tf.keras.Model(\n",
        "      inputs=[inputs, padding_mask], outputs=outputs, name=name)"
      ],
      "execution_count": 27,
      "outputs": []
    },
    {
      "cell_type": "code",
      "metadata": {
        "id": "6hd_KJPehdwZ",
        "outputId": "03195b97-0e93-4f22-b126-5d6ed115084d",
        "colab": {
          "base_uri": "https://localhost:8080/",
          "height": 953
        }
      },
      "source": [
        "sample_encoder = encoder(\n",
        "    vocab_size=8192,\n",
        "    num_layers=5,\n",
        "    units=512,\n",
        "    d_model=128,\n",
        "    num_heads=4,\n",
        "    dropout=0.3,\n",
        "    name=\"sample_encoder\")\n",
        "\n",
        "tf.keras.utils.plot_model(\n",
        "   sample_encoder, to_file='encoder.png')"
      ],
      "execution_count": 28,
      "outputs": [
        {
          "output_type": "execute_result",
          "data": {
            "image/png": "[encoded data removed]",
            "text/plain": [
              "<IPython.core.display.Image object>"
            ]
          },
          "metadata": {},
          "execution_count": 28
        }
      ]
    },
    {
      "cell_type": "markdown",
      "metadata": {
        "id": "o91-Qq-Qep5Q"
      },
      "source": [
        "# DECODER LAYER"
      ]
    },
    {
      "cell_type": "code",
      "metadata": {
        "id": "3ObO1Ljb6zcn"
      },
      "source": [
        "def decoder_layer(units, d_model, num_heads, dropout, name=\"decoder_layer\"):\n",
        "  inputs = tf.keras.Input(shape=(None, d_model), name=\"inputs\")\n",
        "  enc_outputs = tf.keras.Input(shape=(None, d_model), name=\"encoder_outputs\")\n",
        "  look_ahead_mask = tf.keras.Input(\n",
        "      shape=(1, None, None), name=\"look_ahead_mask\")\n",
        "  padding_mask = tf.keras.Input(shape=(1, 1, None), name='padding_mask')\n",
        "\n",
        "  attention1 = MultiHeadAttention(\n",
        "      d_model, num_heads, name=\"attention_1\")(inputs={\n",
        "          'query': inputs,\n",
        "          'key': inputs,\n",
        "          'value': inputs,\n",
        "          'mask': look_ahead_mask\n",
        "      })\n",
        "  attention1 = tf.keras.layers.LayerNormalization(\n",
        "      epsilon=1e-6)(attention1 + inputs)\n",
        "\n",
        "  attention2 = MultiHeadAttention(\n",
        "      d_model, num_heads, name=\"attention_2\")(inputs={\n",
        "          'query': attention1,\n",
        "          'key': enc_outputs,\n",
        "          'value': enc_outputs,\n",
        "          'mask': padding_mask\n",
        "      })\n",
        "  attention2 = tf.keras.layers.Dropout(rate=dropout)(attention2)\n",
        "  attention2 = tf.keras.layers.LayerNormalization(\n",
        "      epsilon=1e-6)(attention2 + attention1)\n",
        "\n",
        "  outputs = tf.keras.layers.Dense(units=units, activation='relu')(attention2)\n",
        "  outputs = tf.keras.layers.Dense(units=d_model)(outputs)\n",
        "  outputs = tf.keras.layers.Dropout(rate=dropout)(outputs)\n",
        "  outputs = tf.keras.layers.LayerNormalization(\n",
        "      epsilon=1e-6)(outputs + attention2)\n",
        "\n",
        "  return tf.keras.Model(\n",
        "      inputs=[inputs, enc_outputs, look_ahead_mask, padding_mask],\n",
        "      outputs=outputs,\n",
        "      name=name)"
      ],
      "execution_count": 29,
      "outputs": []
    },
    {
      "cell_type": "code",
      "metadata": {
        "id": "gmyPwMDGrY9I",
        "outputId": "9e9f68d1-58fd-4a77-bcf9-2091e6ec33e7",
        "colab": {
          "base_uri": "https://localhost:8080/",
          "height": 1000
        }
      },
      "source": [
        "sample_decoder_layer = decoder_layer(\n",
        "    units=512,\n",
        "    d_model=128,\n",
        "    num_heads=4,\n",
        "    dropout=0.3,\n",
        "    name=\"sample_decoder_layer\")\n",
        "\n",
        "tf.keras.utils.plot_model(\n",
        "    sample_decoder_layer, to_file='decoder_layer.png')"
      ],
      "execution_count": 30,
      "outputs": [
        {
          "output_type": "execute_result",
          "data": {
            "image/png": "[encoded data removed]",
            "text/plain": [
              "<IPython.core.display.Image object>"
            ]
          },
          "metadata": {},
          "execution_count": 30
        }
      ]
    },
    {
      "cell_type": "markdown",
      "metadata": {
        "id": "eiym-vvB7rOx"
      },
      "source": [
        "# Decoder"
      ]
    },
    {
      "cell_type": "markdown",
      "metadata": {
        "id": "agRdy_3PNn0_"
      },
      "source": [
        "### Decoder\n",
        "\n",
        "The Decoder consists of:\n",
        "1.   Output Embedding\n",
        "2.   Positional Encoding\n",
        "3.   N decoder layers\n",
        "\n",
        "The target is put through an embedding which is summed with the positional encoding. The output of this summation is the input to the decoder layers. The output of the decoder is the input to the final linear layer."
      ]
    },
    {
      "cell_type": "code",
      "metadata": {
        "id": "6K_cy0wY65th"
      },
      "source": [
        "def decoder(vocab_size,\n",
        "            num_layers,\n",
        "            units,\n",
        "            d_model,\n",
        "            num_heads,\n",
        "            dropout,\n",
        "            name='decoder'):\n",
        "  inputs = tf.keras.Input(shape=(None,), name='inputs')\n",
        "  enc_outputs = tf.keras.Input(shape=(None, d_model), name='encoder_outputs')\n",
        "  look_ahead_mask = tf.keras.Input(\n",
        "      shape=(1, None, None), name='look_ahead_mask')\n",
        "  padding_mask = tf.keras.Input(shape=(1, 1, None), name='padding_mask')\n",
        "\n",
        "  embeddings = tf.keras.layers.Embedding(vocab_size, d_model)(inputs)\n",
        "  embeddings *= tf.math.sqrt(tf.cast(d_model, tf.float32))\n",
        "  embeddings = PositionalEncoding(vocab_size, d_model)(embeddings)\n",
        "\n",
        "  outputs = tf.keras.layers.Dropout(rate=dropout)(embeddings)\n",
        "\n",
        "  for i in range(num_layers):\n",
        "    outputs = decoder_layer(\n",
        "        units=units,\n",
        "        d_model=d_model,\n",
        "        num_heads=num_heads,\n",
        "        dropout=dropout,\n",
        "        name='decoder_layer_{}'.format(i),\n",
        "    )(inputs=[outputs, enc_outputs, look_ahead_mask, padding_mask])\n",
        "\n",
        "  return tf.keras.Model(\n",
        "      inputs=[inputs, enc_outputs, look_ahead_mask, padding_mask],\n",
        "      outputs=outputs,\n",
        "      name=name)"
      ],
      "execution_count": 31,
      "outputs": []
    },
    {
      "cell_type": "code",
      "metadata": {
        "id": "YmT8Vn8aa1fM",
        "outputId": "8a0e6048-0562-4ef5-cecb-0c9fb5394728",
        "colab": {
          "base_uri": "https://localhost:8080/",
          "height": 661
        }
      },
      "source": [
        "sample_decoder = decoder(\n",
        "    vocab_size=8192,\n",
        "    num_layers=2,\n",
        "    units=512,\n",
        "    d_model=128,\n",
        "    num_heads=4,\n",
        "    dropout=0.3,\n",
        "    name=\"sample_decoder\")\n",
        "\n",
        "tf.keras.utils.plot_model(\n",
        "    sample_decoder, to_file='decoder.png')"
      ],
      "execution_count": 32,
      "outputs": [
        {
          "output_type": "execute_result",
          "data": {
            "image/png": "[encoded data removed]",
            "text/plain": [
              "<IPython.core.display.Image object>"
            ]
          },
          "metadata": {},
          "execution_count": 32
        }
      ]
    },
    {
      "cell_type": "markdown",
      "metadata": {
        "id": "P69366vGetP-"
      },
      "source": [
        "# Final Transformer model\n",
        "\n",
        "Transformer consists of the encoder, decoder and a final linear layer."
      ]
    },
    {
      "cell_type": "code",
      "metadata": {
        "id": "Ij47skDD6_uF"
      },
      "source": [
        "def transformer(input_vocab_size,\n",
        "                target_vocab_size,\n",
        "                num_layers,\n",
        "                units,\n",
        "                d_model,\n",
        "                num_heads,\n",
        "                dropout,\n",
        "                name=\"transformer\"):\n",
        "  inputs = tf.keras.Input(shape=(None,), name=\"inputs\")\n",
        "  dec_inputs = tf.keras.Input(shape=(None,), name=\"decoder_inputs\")\n",
        "\n",
        "  enc_padding_mask = tf.keras.layers.Lambda(\n",
        "      create_padding_mask, output_shape=(1, 1, None),\n",
        "      name='enc_padding_mask')(inputs)\n",
        "  # mask the future tokens for decoder inputs at the 1st attention block\n",
        "  look_ahead_mask = tf.keras.layers.Lambda(\n",
        "      create_look_ahead_mask,\n",
        "      output_shape=(1, None, None),\n",
        "      name='look_ahead_mask')(dec_inputs)\n",
        "  # mask the encoder outputs for the 2nd attention block\n",
        "  dec_padding_mask = tf.keras.layers.Lambda(\n",
        "      create_padding_mask, output_shape=(1, 1, None),\n",
        "      name='dec_padding_mask')(inputs)\n",
        "\n",
        "  enc_outputs = encoder(\n",
        "      vocab_size=input_vocab_size,\n",
        "      num_layers=num_layers,\n",
        "      units=units,\n",
        "      d_model=d_model,\n",
        "      num_heads=num_heads,\n",
        "      dropout=dropout,\n",
        "  )(inputs=[inputs, enc_padding_mask])\n",
        "\n",
        "  dec_outputs = decoder(\n",
        "      vocab_size=target_vocab_size,\n",
        "      num_layers=num_layers,\n",
        "      units=units,\n",
        "      d_model=d_model,\n",
        "      num_heads=num_heads,\n",
        "      dropout=dropout,\n",
        "  )(inputs=[dec_inputs, enc_outputs, look_ahead_mask, dec_padding_mask])\n",
        "\n",
        "  outputs = tf.keras.layers.Dense(units=target_vocab_size, name=\"outputs\")(dec_outputs)\n",
        "\n",
        "  return tf.keras.Model(inputs=[inputs, dec_inputs], outputs=outputs, name=name)"
      ],
      "execution_count": 33,
      "outputs": []
    },
    {
      "cell_type": "code",
      "metadata": {
        "id": "LT9RrUzGJPKD",
        "outputId": "54c896b5-ad34-4994-9fb7-1265ca0266c9",
        "colab": {
          "base_uri": "https://localhost:8080/",
          "height": 466
        }
      },
      "source": [
        "sample_transformer = transformer(\n",
        "    input_vocab_size = 100,\n",
        "    target_vocab_size = 100,\n",
        "    num_layers=4,\n",
        "    units=512,\n",
        "    d_model=128,\n",
        "    num_heads=4,\n",
        "    dropout=0.3,\n",
        "    name=\"sample_transformer\")\n",
        "\n",
        "tf.keras.utils.plot_model(\n",
        "    sample_transformer, to_file='transformer.png')"
      ],
      "execution_count": 34,
      "outputs": [
        {
          "output_type": "execute_result",
          "data": {
            "image/png": "[encoded data removed]",
            "text/plain": [
              "<IPython.core.display.Image object>"
            ]
          },
          "metadata": {},
          "execution_count": 34
        }
      ]
    },
    {
      "cell_type": "markdown",
      "metadata": {
        "id": "VrsDlmF2ewKM"
      },
      "source": [
        "#MODEL FOR TRAINING"
      ]
    },
    {
      "cell_type": "code",
      "metadata": {
        "id": "l5aBcsKr7Ejz"
      },
      "source": [
        "D_MODEL = 256\n",
        "model = transformer(\n",
        "    tokenizer_input.vocab_size+2,\n",
        "    tokenizer_out.vocab_size+2,\n",
        "    num_layers = 2,\n",
        "    units = 512,\n",
        "    d_model = D_MODEL,\n",
        "    num_heads = 8,\n",
        "    dropout = 0.1)"
      ],
      "execution_count": 35,
      "outputs": []
    },
    {
      "cell_type": "markdown",
      "metadata": {
        "id": "_mbKIqyZe3xz"
      },
      "source": [
        "#LOSS FUNCTION"
      ]
    },
    {
      "cell_type": "markdown",
      "metadata": {
        "id": "SHG1VC--e3tv"
      },
      "source": [
        "Since the target sequences are padded, it is important to apply a padding mask when calculating the loss."
      ]
    },
    {
      "cell_type": "code",
      "metadata": {
        "id": "nF7-RKuJ7KJ8"
      },
      "source": [
        "def loss(y_true, y_pred):\n",
        "  y_true = tf.reshape(y_true, shape=(-1, 10 - 1))\n",
        "\n",
        "  loss = tf.keras.losses.SparseCategoricalCrossentropy(\n",
        "      from_logits=True, reduction='none')(y_true, y_pred)\n",
        "\n",
        "  mask = tf.cast(tf.not_equal(y_true, 0), tf.float32)\n",
        "  loss = tf.multiply(loss, mask)\n",
        "\n",
        "  return tf.reduce_mean(loss)"
      ],
      "execution_count": 36,
      "outputs": []
    },
    {
      "cell_type": "markdown",
      "metadata": {
        "id": "Bd8dfKWle-Lk"
      },
      "source": [
        "# Optimizer"
      ]
    },
    {
      "cell_type": "markdown",
      "metadata": {
        "id": "q7czIgIHe7Ui"
      },
      "source": [
        "###Custom LEARNING RATE\n",
        "\n",
        "\n",
        "$$\\Large{lrate = d_{model}^{-0.5} * min(step{\\_}num^{-0.5}, step{\\_}num * warmup{\\_}steps^{-1.5})}$$"
      ]
    },
    {
      "cell_type": "code",
      "metadata": {
        "id": "7Ll5kM6C7Q9K"
      },
      "source": [
        "class CustomSchedule(tf.keras.optimizers.schedules.LearningRateSchedule):\n",
        "\n",
        "  def __init__(self, d_model, warmup_steps=4000):\n",
        "    super(CustomSchedule, self).__init__()\n",
        "    self.d_model = tf.cast(d_model, tf.float32)\n",
        "    self.d_model = tf.cast(self.d_model, tf.float32)\n",
        "    self.warmup_steps = warmup_steps\n",
        "\n",
        "  def __call__(self, step):\n",
        "    step = tf.cast(step, tf.float32)\n",
        "    arg1 = tf.math.rsqrt(step)\n",
        "    arg2 = step * (self.warmup_steps**-1.5)\n",
        "\n",
        "    return tf.math.rsqrt(self.d_model) * tf.math.minimum(arg1, arg2)"
      ],
      "execution_count": 37,
      "outputs": []
    },
    {
      "cell_type": "code",
      "metadata": {
        "id": "2hT7smyG7UCp"
      },
      "source": [
        "learning_rate = CustomSchedule(D_MODEL)\n",
        "\n",
        "optimizer = tf.keras.optimizers.Adam(\n",
        "    learning_rate, beta_1=0.9, beta_2=0.98, epsilon=1e-9)\n"
      ],
      "execution_count": 38,
      "outputs": []
    },
    {
      "cell_type": "code",
      "metadata": {
        "id": "jVT_2f41013F"
      },
      "source": [
        "model.compile(optimizer=optimizer, loss=loss)"
      ],
      "execution_count": 39,
      "outputs": []
    },
    {
      "cell_type": "markdown",
      "metadata": {
        "id": "HWBhuC12fAu_"
      },
      "source": [
        "#TRAINING"
      ]
    },
    {
      "cell_type": "code",
      "metadata": {
        "id": "W36EF9fi7XBN",
        "outputId": "548fea3e-b3e9-466c-f6fc-d6598cc41a66",
        "colab": {
          "base_uri": "https://localhost:8080/"
        }
      },
      "source": [
        "EPOCHS = 20\n",
        "model.fit(dataset, epochs=EPOCHS)"
      ],
      "execution_count": 40,
      "outputs": [
        {
          "output_type": "stream",
          "name": "stdout",
          "text": [
            "Epoch 1/20\n",
            "313/313 [==============================] - 41s 50ms/step - loss: 3.8247\n",
            "Epoch 2/20\n",
            "313/313 [==============================] - 12s 39ms/step - loss: 2.3048\n",
            "Epoch 3/20\n",
            "313/313 [==============================] - 12s 38ms/step - loss: 1.8060\n",
            "Epoch 4/20\n",
            "313/313 [==============================] - 12s 40ms/step - loss: 1.5211\n",
            "Epoch 5/20\n",
            "313/313 [==============================] - 13s 43ms/step - loss: 1.2993\n",
            "Epoch 6/20\n",
            "313/313 [==============================] - 12s 37ms/step - loss: 1.1097\n",
            "Epoch 7/20\n",
            "313/313 [==============================] - 13s 43ms/step - loss: 0.9525\n",
            "Epoch 8/20\n",
            "313/313 [==============================] - 21s 67ms/step - loss: 0.8207\n",
            "Epoch 9/20\n",
            "313/313 [==============================] - 12s 38ms/step - loss: 0.7141\n",
            "Epoch 10/20\n",
            "313/313 [==============================] - 11s 36ms/step - loss: 0.6395\n",
            "Epoch 11/20\n",
            "313/313 [==============================] - 13s 42ms/step - loss: 0.5805\n",
            "Epoch 12/20\n",
            "313/313 [==============================] - 12s 37ms/step - loss: 0.5410\n",
            "Epoch 13/20\n",
            "313/313 [==============================] - 12s 37ms/step - loss: 0.5142\n",
            "Epoch 14/20\n",
            "313/313 [==============================] - 12s 38ms/step - loss: 0.4741\n",
            "Epoch 15/20\n",
            "313/313 [==============================] - 13s 42ms/step - loss: 0.4284\n",
            "Epoch 16/20\n",
            "313/313 [==============================] - 12s 39ms/step - loss: 0.3908\n",
            "Epoch 17/20\n",
            "313/313 [==============================] - 12s 37ms/step - loss: 0.3582\n",
            "Epoch 18/20\n",
            "313/313 [==============================] - 11s 35ms/step - loss: 0.3308\n",
            "Epoch 19/20\n",
            "313/313 [==============================] - 12s 37ms/step - loss: 0.3133\n",
            "Epoch 20/20\n",
            "313/313 [==============================] - 13s 41ms/step - loss: 0.2960\n"
          ]
        },
        {
          "output_type": "execute_result",
          "data": {
            "text/plain": [
              "<keras.src.callbacks.History at 0x7f2df476b340>"
            ]
          },
          "metadata": {},
          "execution_count": 40
        }
      ]
    },
    {
      "cell_type": "markdown",
      "metadata": {
        "id": "D2f_iaMVfC5F"
      },
      "source": [
        "#PREDICTION"
      ]
    },
    {
      "cell_type": "code",
      "metadata": {
        "id": "mZloVjMS_F8C"
      },
      "source": [
        "def translate (input_sentence):\n",
        "\n",
        "  input_sentence = START_TOKEN_in + tokenizer_input.encode(input_sentence) + END_TOKEN_in\n",
        "  encoder_input = tf.expand_dims(input_sentence, 0)\n",
        "\n",
        "  decoder_input = [tokenizer_out.vocab_size]\n",
        "  output = tf.expand_dims(decoder_input, 0)\n",
        "\n",
        "  for i in range(MAX_LENGTH):\n",
        "    predictions = model(inputs=[encoder_input, output], training=False)\n",
        "\n",
        "    # select the last word\n",
        "    predictions = predictions[:, -1:, :]\n",
        "    predicted_id = tf.cast(tf.argmax(predictions, axis=-1), tf.int32)\n",
        "\n",
        "    # terminate on END_TOKEN\n",
        "    if tf.equal(predicted_id, END_TOKEN_out[0]):\n",
        "      break\n",
        "\n",
        "    # concatenated the predicted_id to the output\n",
        "    output = tf.concat([output, predicted_id], axis=-1)\n",
        "\n",
        "  return tf.squeeze(output, axis=0)"
      ],
      "execution_count": 41,
      "outputs": []
    },
    {
      "cell_type": "markdown",
      "metadata": {
        "id": "77lLrftW-c4I"
      },
      "source": [
        "# Testing"
      ]
    },
    {
      "cell_type": "code",
      "metadata": {
        "id": "fhiWh8NLjxHD",
        "outputId": "f7df30df-f688-45e7-fac2-4eaa1e4598b8",
        "colab": {
          "base_uri": "https://localhost:8080/"
        }
      },
      "source": [
        "test_sentences = ['i am sorry', 'how are you']\n",
        "for s in test_sentences:\n",
        "  prediction = translate(s)\n",
        "\n",
        "  predicted_sentence = tokenizer_out.decode(\n",
        "      [i for i in prediction if i < tokenizer_out.vocab_size])\n",
        "\n",
        "  print('Input: {}'.format(s))\n",
        "  print('Output: {}'.format(predicted_sentence))"
      ],
      "execution_count": 42,
      "outputs": [
        {
          "output_type": "stream",
          "name": "stdout",
          "text": [
            "Input: i am sorry\n",
            "Output: me siento.\n",
            "Input: how are you\n",
            "Output: qué tal estás.\n"
          ]
        }
      ]
    }
  ]
}